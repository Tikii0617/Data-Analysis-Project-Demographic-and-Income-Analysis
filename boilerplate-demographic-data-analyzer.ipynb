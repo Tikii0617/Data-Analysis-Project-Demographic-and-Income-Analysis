{
 "cells": [
  {
   "cell_type": "markdown",
   "id": "ecce8f49",
   "metadata": {},
   "source": [
    "## Set up Environment"
   ]
  },
  {
   "cell_type": "code",
   "execution_count": 1,
   "id": "d18abf66",
   "metadata": {},
   "outputs": [],
   "source": [
    "import pandas as pd\n"
   ]
  },
  {
   "cell_type": "markdown",
   "id": "9f77a55d",
   "metadata": {},
   "source": [
    "## Load Dataset"
   ]
  },
  {
   "cell_type": "code",
   "execution_count": 2,
   "id": "0d624120",
   "metadata": {},
   "outputs": [],
   "source": [
    "df = pd.read_csv(r\"/Users/dejicuomu/Desktop/boilerplate-demographic-data-analyzer/adult.data.csv\")"
   ]
  },
  {
   "cell_type": "code",
   "execution_count": 3,
   "id": "8e08080a",
   "metadata": {},
   "outputs": [
    {
     "data": {
      "text/plain": [
       "(32561, 15)"
      ]
     },
     "execution_count": 3,
     "metadata": {},
     "output_type": "execute_result"
    }
   ],
   "source": [
    "df.shape"
   ]
  },
  {
   "cell_type": "code",
   "execution_count": 4,
   "id": "97b1b942",
   "metadata": {},
   "outputs": [
    {
     "data": {
      "text/plain": [
       "pandas.core.frame.DataFrame"
      ]
     },
     "execution_count": 4,
     "metadata": {},
     "output_type": "execute_result"
    }
   ],
   "source": [
    "type(df)"
   ]
  },
  {
   "cell_type": "markdown",
   "id": "1faed151",
   "metadata": {},
   "source": [
    "## Exploring Data"
   ]
  },
  {
   "cell_type": "code",
   "execution_count": 5,
   "id": "26d8499e",
   "metadata": {},
   "outputs": [
    {
     "name": "stdout",
     "output_type": "stream",
     "text": [
      "Number of each race:\n",
      " White                 27816\n",
      "Black                  3124\n",
      "Asian-Pac-Islander     1039\n",
      "Amer-Indian-Eskimo      311\n",
      "Other                   271\n",
      "Name: race, dtype: int64\n"
     ]
    }
   ],
   "source": [
    "# 1. Count of individuals in each race\n",
    "race_count = df['race'].value_counts()\n",
    "print(\"Number of each race:\\n\", race_count)"
   ]
  },
  {
   "cell_type": "code",
   "execution_count": 6,
   "id": "59ffdbe0",
   "metadata": {},
   "outputs": [
    {
     "name": "stdout",
     "output_type": "stream",
     "text": [
      "Average age of men: 39.43354749885268\n"
     ]
    }
   ],
   "source": [
    "# 2.What is the average age of men?\n",
    "average_age_men = df[df['sex'] == 'Male']['age'].mean()\n",
    "print(\"Average age of men:\", average_age_men)\n"
   ]
  },
  {
   "cell_type": "code",
   "execution_count": 7,
   "id": "7e83eaf3",
   "metadata": {},
   "outputs": [
    {
     "name": "stdout",
     "output_type": "stream",
     "text": [
      "Percentage with Bachelors degrees: 16.44605509658794%\n"
     ]
    }
   ],
   "source": [
    "# 3. Percentage of people with Bachelors degrees\n",
    "percentage_bachelors = (df[df['education'] == 'Bachelors'].shape[0] / df.shape[0]) * 100\n",
    "\n",
    "print(f\"Percentage with Bachelors degrees: {percentage_bachelors}%\")\n"
   ]
  },
  {
   "cell_type": "code",
   "execution_count": 8,
   "id": "c9ab3b51",
   "metadata": {},
   "outputs": [
    {
     "name": "stdout",
     "output_type": "stream",
     "text": [
      "Percentage with higher education that earn >50K:        age         workclass  fnlwgt  education  education-num  \\\n",
      "8       31           Private   45781    Masters             14   \n",
      "9       42           Private  159449  Bachelors             13   \n",
      "11      30         State-gov  141297  Bachelors             13   \n",
      "19      43  Self-emp-not-inc  292175    Masters             14   \n",
      "20      40           Private  193524  Doctorate             16   \n",
      "...    ...               ...     ...        ...            ...   \n",
      "32533   54           Private  337992  Bachelors             13   \n",
      "32536   34           Private  160216  Bachelors             13   \n",
      "32538   38           Private  139180  Bachelors             13   \n",
      "32539   71                 ?  287372  Doctorate             16   \n",
      "32554   53           Private  321865    Masters             14   \n",
      "\n",
      "           marital-status       occupation   relationship                race  \\\n",
      "8           Never-married   Prof-specialty  Not-in-family               White   \n",
      "9      Married-civ-spouse  Exec-managerial        Husband               White   \n",
      "11     Married-civ-spouse   Prof-specialty        Husband  Asian-Pac-Islander   \n",
      "19               Divorced  Exec-managerial      Unmarried               White   \n",
      "20     Married-civ-spouse   Prof-specialty        Husband               White   \n",
      "...                   ...              ...            ...                 ...   \n",
      "32533  Married-civ-spouse  Exec-managerial        Husband  Asian-Pac-Islander   \n",
      "32536       Never-married  Exec-managerial  Not-in-family               White   \n",
      "32538            Divorced   Prof-specialty      Unmarried               Black   \n",
      "32539  Married-civ-spouse                ?        Husband               White   \n",
      "32554  Married-civ-spouse  Exec-managerial        Husband               White   \n",
      "\n",
      "          sex  capital-gain  capital-loss  hours-per-week native-country  \\\n",
      "8      Female         14084             0              50  United-States   \n",
      "9        Male          5178             0              40  United-States   \n",
      "11       Male             0             0              40          India   \n",
      "19     Female             0             0              45  United-States   \n",
      "20       Male             0             0              60  United-States   \n",
      "...       ...           ...           ...             ...            ...   \n",
      "32533    Male             0             0              50          Japan   \n",
      "32536  Female             0             0              55  United-States   \n",
      "32538  Female         15020             0              45  United-States   \n",
      "32539    Male             0             0              10  United-States   \n",
      "32554    Male             0             0              40  United-States   \n",
      "\n",
      "      salary  \n",
      "8       >50K  \n",
      "9       >50K  \n",
      "11      >50K  \n",
      "19      >50K  \n",
      "20      >50K  \n",
      "...      ...  \n",
      "32533   >50K  \n",
      "32536   >50K  \n",
      "32538   >50K  \n",
      "32539   >50K  \n",
      "32554   >50K  \n",
      "\n",
      "[3486 rows x 15 columns]%\n"
     ]
    }
   ],
   "source": [
    "# 4. Percentage of people with advanced education making >50K\n",
    "\n",
    "# What percentage of people with advanced education (`Bachelors`, `Masters`, or `Doctorate`) make more than 50K?\n",
    "# What percentage of people without advanced education make more than 50K?\n",
    "higher_education = df[df['education'].isin(['Bachelors', 'Masters', 'Doctorate'])]\n",
    "higher_education_rich = higher_education[higher_education['salary'] == '>50K']\n",
    "percentage_higher_education_rich = (higher_education_rich.shape[0] / higher_education.shape[0]) * 100\n",
    "\n",
    "print(f\"Percentage with higher education that earn >50K: {higher_education_rich}%\")\n"
   ]
  },
  {
   "cell_type": "code",
   "execution_count": 9,
   "id": "9340baa8",
   "metadata": {},
   "outputs": [
    {
     "name": "stdout",
     "output_type": "stream",
     "text": [
      "Percentage without higher education that earn >50K:        age         workclass  fnlwgt     education  education-num  \\\n",
      "7       52  Self-emp-not-inc  209642       HS-grad              9   \n",
      "10      37           Private  280464  Some-college             10   \n",
      "14      40           Private  121772     Assoc-voc             11   \n",
      "27      54                 ?  180211  Some-college             10   \n",
      "38      31           Private   84154  Some-college             10   \n",
      "...    ...               ...     ...           ...            ...   \n",
      "32518   57         Local-gov  110417       HS-grad              9   \n",
      "32519   46           Private  364548  Some-college             10   \n",
      "32545   39         Local-gov  111499    Assoc-acdm             12   \n",
      "32557   40           Private  154374       HS-grad              9   \n",
      "32560   52      Self-emp-inc  287927       HS-grad              9   \n",
      "\n",
      "           marital-status         occupation relationship                race  \\\n",
      "7      Married-civ-spouse    Exec-managerial      Husband               White   \n",
      "10     Married-civ-spouse    Exec-managerial      Husband               Black   \n",
      "14     Married-civ-spouse       Craft-repair      Husband  Asian-Pac-Islander   \n",
      "27     Married-civ-spouse                  ?      Husband  Asian-Pac-Islander   \n",
      "38     Married-civ-spouse              Sales      Husband               White   \n",
      "...                   ...                ...          ...                 ...   \n",
      "32518  Married-civ-spouse       Craft-repair      Husband               White   \n",
      "32519  Married-civ-spouse    Exec-managerial      Husband               White   \n",
      "32545  Married-civ-spouse       Adm-clerical         Wife               White   \n",
      "32557  Married-civ-spouse  Machine-op-inspct      Husband               White   \n",
      "32560  Married-civ-spouse    Exec-managerial         Wife               White   \n",
      "\n",
      "          sex  capital-gain  capital-loss  hours-per-week native-country  \\\n",
      "7        Male             0             0              45  United-States   \n",
      "10       Male             0             0              80  United-States   \n",
      "14       Male             0             0              40              ?   \n",
      "27       Male             0             0              60          South   \n",
      "38       Male             0             0              38              ?   \n",
      "...       ...           ...           ...             ...            ...   \n",
      "32518    Male         99999             0              40  United-States   \n",
      "32519    Male             0             0              48  United-States   \n",
      "32545  Female             0             0              20  United-States   \n",
      "32557    Male             0             0              40  United-States   \n",
      "32560  Female         15024             0              40  United-States   \n",
      "\n",
      "      salary  \n",
      "7       >50K  \n",
      "10      >50K  \n",
      "14      >50K  \n",
      "27      >50K  \n",
      "38      >50K  \n",
      "...      ...  \n",
      "32518   >50K  \n",
      "32519   >50K  \n",
      "32545   >50K  \n",
      "32557   >50K  \n",
      "32560   >50K  \n",
      "\n",
      "[4355 rows x 15 columns]%\n"
     ]
    }
   ],
   "source": [
    "# 5. Percentage of people without advanced education making >50K\n",
    "lower_education = df[~df['education'].isin(['Bachelors', 'Masters', 'Doctorate'])]\n",
    "lower_education_rich = lower_education[lower_education['salary'] == '>50K']\n",
    "percentage_lower_education_rich = (lower_education_rich.shape[0] / lower_education.shape[0]) * 100\n",
    "\n",
    "print(f\"Percentage without higher education that earn >50K: {lower_education_rich}%\")\n"
   ]
  },
  {
   "cell_type": "code",
   "execution_count": 10,
   "id": "fb7d376c",
   "metadata": {},
   "outputs": [
    {
     "name": "stdout",
     "output_type": "stream",
     "text": [
      "Min work time: 1 hours/week\n"
     ]
    }
   ],
   "source": [
    "# 6. Minimum hours of work per week\n",
    "min_work_hours = df['hours-per-week'].min()\n",
    "\n",
    "print(f\"Min work time: {min_work_hours} hours/week\")\n"
   ]
  },
  {
   "cell_type": "code",
   "execution_count": 11,
   "id": "9bea9c82",
   "metadata": {},
   "outputs": [
    {
     "name": "stdout",
     "output_type": "stream",
     "text": [
      "Percentage of rich among those who work fewest hours: 2%\n"
     ]
    }
   ],
   "source": [
    "# 7. Percentage of those working minimum hours and making >50K\n",
    "rich_percentage = df[(df['hours-per-week'] == min_work_hours) & (df['salary'] == '>50K')].shape[0]\n",
    "\n",
    "print(f\"Percentage of rich among those who work fewest hours: {rich_percentage}%\")\n"
   ]
  },
  {
   "cell_type": "code",
   "execution_count": 12,
   "id": "0d4c96b6",
   "metadata": {},
   "outputs": [
    {
     "name": "stdout",
     "output_type": "stream",
     "text": [
      "Country with highest percentage of rich: United-States\n",
      "Highest percentage of rich people in country: 24.583476174151524%\n"
     ]
    }
   ],
   "source": [
    "# 8. Country with the highest percentage of people making >50K\n",
    "highest_earning_country = df[df['salary'] == '>50K']['native-country'].value_counts().idxmax()\n",
    "highest_earning_country_percentage = (df[(df['native-country'] == highest_earning_country) & (df['salary'] == '>50K')].shape[0] / df[df['native-country'] == highest_earning_country].shape[0]) * 100\n",
    "\n",
    "print(\"Country with highest percentage of rich:\", highest_earning_country)\n",
    "\n",
    "print(f\"Highest percentage of rich people in country: {highest_earning_country_percentage}%\")\n"
   ]
  },
  {
   "cell_type": "code",
   "execution_count": 13,
   "id": "ecd7801c",
   "metadata": {},
   "outputs": [
    {
     "name": "stdout",
     "output_type": "stream",
     "text": [
      "Top occupations in India: Prof-specialty      25\n",
      "Exec-managerial      8\n",
      "Other-service        2\n",
      "Tech-support         2\n",
      "Transport-moving     1\n",
      "Sales                1\n",
      "Adm-clerical         1\n",
      "Name: occupation, dtype: int64\n"
     ]
    }
   ],
   "source": [
    "# 9. Top occupations in India for individuals making >50K\n",
    "top_IN_occupation = df[(df['native-country'] == 'India') & (df['salary'] == '>50K')]['occupation'].value_counts()\n",
    "\n",
    "print(\"Top occupations in India:\", top_IN_occupation)"
   ]
  },
  {
   "cell_type": "code",
   "execution_count": 14,
   "id": "12cfa3bf",
   "metadata": {},
   "outputs": [],
   "source": [
    "import pandas as pd\n",
    "import matplotlib.pyplot as plt\n",
    "import seaborn as sns\n"
   ]
  },
  {
   "cell_type": "markdown",
   "id": "ce64479c",
   "metadata": {},
   "source": [
    "## Visualizing Data"
   ]
  },
  {
   "cell_type": "code",
   "execution_count": 15,
   "id": "dc0d6d29",
   "metadata": {},
   "outputs": [
    {
     "data": {
      "image/png": "[encoded data removed]",
      "text/plain": [
       "<Figure size 576x360 with 1 Axes>"
      ]
     },
     "metadata": {
      "needs_background": "light"
     },
     "output_type": "display_data"
    }
   ],
   "source": [
    "    # Visualization 1: Race Count\n",
    "\n",
    "    plt.figure(figsize=(8, 5))\n",
    "    sns.barplot(x=race_count.index, y=race_count.values, palette=\"viridis\")\n",
    "    plt.title('Race Count')\n",
    "    plt.xlabel('Race')\n",
    "    plt.ylabel('Count')\n",
    "    plt.show()"
   ]
  },
  {
   "cell_type": "code",
   "execution_count": 16,
   "id": "ba5548a6",
   "metadata": {},
   "outputs": [
    {
     "data": {
      "image/png": "[encoded data removed]",
      "text/plain": [
       "<Figure size 576x360 with 1 Axes>"
      ]
     },
     "metadata": {},
     "output_type": "display_data"
    }
   ],
   "source": [
    "# Visualization 2: Education Level Distribution\n",
    "labels = ['Bachelors or Higher', 'Below Bachelors']\n",
    "sizes = [df[df['education'].isin(['Bachelors', 'Masters', 'Doctorate'])].shape[0], df[~df['education'].isin(['Bachelors', 'Masters', 'Doctorate'])].shape[0]]\n",
    "plt.figure(figsize=(8, 5))\n",
    "plt.pie(sizes, labels=labels, autopct='%1.1f%%', colors=['skyblue', 'lightcoral'])\n",
    "plt.title('Education Level Distribution')\n",
    "plt.show()"
   ]
  }
 ],
 "metadata": {
  "kernelspec": {
   "display_name": "Python 3 (ipykernel)",
   "language": "python",
   "name": "python3"
  },
  "language_info": {
   "codemirror_mode": {
    "name": "ipython",
    "version": 3
   },
   "file_extension": ".py",
   "mimetype": "text/x-python",
   "name": "python",
   "nbconvert_exporter": "python",
   "pygments_lexer": "ipython3",
   "version": "3.9.12"
  }
 },
 "nbformat": 4,
 "nbformat_minor": 5
}
